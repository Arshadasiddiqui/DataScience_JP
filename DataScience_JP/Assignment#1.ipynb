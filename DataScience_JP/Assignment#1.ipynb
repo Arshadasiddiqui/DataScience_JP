{
 "cells": [
  {
   "cell_type": "code",
   "execution_count": 5,
   "metadata": {},
   "outputs": [
    {
     "name": "stdout",
     "output_type": "stream",
     "text": [
      "Twinkle, twinkle, little star\n",
      "          How I wonder what you are\n",
      "                   Up above the world so high,\n",
      "                   Like a diamond in the sky.\n",
      "Twinkle, twinkle, little star\n",
      "          How I wonder what you are\n",
      "\n"
     ]
    }
   ],
   "source": [
    "x=' '\n",
    "print(\"Twinkle, twinkle, little star\")\n",
    "print(f\"{x*10}How I wonder what you are\")\n",
    "print(f\"{x*19}Up above the world so high,\")\n",
    "print(f\"{x*19}Like a diamond in the sky.\")\n",
    "print(\"Twinkle, twinkle, little star,\")\n",
    "print(f\"{x*10}How I wonder what you are\\n\")"
   ]
  },
  {
   "cell_type": "code",
   "execution_count": 7,
   "metadata": {},
   "outputs": [
    {
     "name": "stdout",
     "output_type": "stream",
     "text": [
      "Python version\n",
      "3.8.5 (default, Sep  3 2020, 21:29:08) [MSC v.1916 64 bit (AMD64)]\n"
     ]
    }
   ],
   "source": [
    "import sys\n",
    "print(\"Python version\")\n",
    "print (sys.version)"
   ]
  },
  {
   "cell_type": "code",
   "execution_count": 8,
   "metadata": {},
   "outputs": [
    {
     "name": "stdout",
     "output_type": "stream",
     "text": [
      "Current date and time : \n",
      "2021-12-30 00:02:53\n"
     ]
    }
   ],
   "source": [
    "import datetime\n",
    "now = datetime.datetime.now()\n",
    "print (\"Current date and time : \")\n",
    "print (now.strftime(\"%Y-%m-%d %H:%M:%S\"))"
   ]
  },
  {
   "cell_type": "code",
   "execution_count": 10,
   "metadata": {},
   "outputs": [
    {
     "name": "stdout",
     "output_type": "stream",
     "text": [
      "Input the radius of the circle : 3\n",
      "The area of the circle with radius 3.0 is: 28.274333882308138\n"
     ]
    }
   ],
   "source": [
    "from math import pi\n",
    " \n",
    "#  input from user\n",
    "r = float(input (\"Input the radius of the circle : \"))\n",
    " \n",
    "#  area from radius of a circle given by user\n",
    "calculateArea = str(pi * r**2);\n",
    "print (\"The area of the circle with radius \" + str(r) + \" is: \" + calculateArea)\n"
   ]
  },
  {
   "cell_type": "code",
   "execution_count": 11,
   "metadata": {},
   "outputs": [
    {
     "name": "stdout",
     "output_type": "stream",
     "text": [
      "Input your First Name : Arshad\n",
      "Input your Last Name : Siddiqui\n",
      "Siddiqui Arshad\n"
     ]
    }
   ],
   "source": [
    "fn = input(\"Input your First Name : \")\n",
    "ln = input(\"Input your Last Name : \")\n",
    "print (ln + \" \" + fn)"
   ]
  },
  {
   "cell_type": "code",
   "execution_count": 13,
   "metadata": {},
   "outputs": [
    {
     "name": "stdout",
     "output_type": "stream",
     "text": [
      "First number: 3.5\n",
      "Second number: 4.2\n",
      "The sum of 3.5 and 4.2 is 7.7\n"
     ]
    }
   ],
   "source": [
    "n1 = float(input(\"First number: \"))\n",
    "n2 = float(input(\"Second number: \"))\n",
    "sum=n1+n2\n",
    "print(\"The sum of {0} and {1} is {2}\" .format(n1, n2, sum))"
   ]
  },
  {
   "cell_type": "code",
   "execution_count": null,
   "metadata": {},
   "outputs": [],
   "source": []
  }
 ],
 "metadata": {
  "kernelspec": {
   "display_name": "Python 3",
   "language": "python",
   "name": "python3"
  },
  "language_info": {
   "codemirror_mode": {
    "name": "ipython",
    "version": 3
   },
   "file_extension": ".py",
   "mimetype": "text/x-python",
   "name": "python",
   "nbconvert_exporter": "python",
   "pygments_lexer": "ipython3",
   "version": "3.8.5"
  }
 },
 "nbformat": 4,
 "nbformat_minor": 4
}
